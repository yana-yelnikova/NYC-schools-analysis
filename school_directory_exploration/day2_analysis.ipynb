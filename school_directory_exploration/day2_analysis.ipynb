{
 "cells": [
  {
   "cell_type": "markdown",
   "id": "9e031d64-7913-4829-af13-80d82fa42936",
   "metadata": {},
   "source": [
    "# Loading the dataset using pandas"
   ]
  },
  {
    "cell_type": "code",
    "execution_count": 1,
    "id": "feb0023d-50f4-432d-bdcd-b625f0b25239",
    "metadata": {
        "collapsed": true
    },
    "outputs": [],
    "source": [
        "import pandas as pd\n",
        "df = pd.read_csv(\"G:\\Data_Analysys\\Praktikum\\day 2\\high-school-directory.csv\")"
    ]
},
  {
   "cell_type": "markdown",
   "id": "f4fa038a-e551-46e0-94b4-3c296a021efc",
   "metadata": {},
   "source": [
    "## Exploring column names"
   ]
  },
  {
   "cell_type": "code",
   "execution_count": 2,
   "id": "6b80160b-58da-4ae2-aca5-7032d3d0e557",
   "metadata": {
    "scrolled": true
   },
   "outputs": [
    {
     "name": "stdout",
     "output_type": "stream",
     "text": [
      "<class 'pandas.core.frame.DataFrame'>\n",
      "RangeIndex: 435 entries, 0 to 434\n",
      "Data columns (total 69 columns):\n",
      " #   Column                            Non-Null Count  Dtype  \n",
      "---  ------                            --------------  -----  \n",
      " 0   dbn                               435 non-null    object \n",
      " 1   school_name                       435 non-null    object \n",
      " 2   borough                           435 non-null    object \n",
      " 3   building_code                     435 non-null    object \n",
      " 4   phone_number                      435 non-null    object \n",
      " 5   fax_number                        423 non-null    object \n",
      " 6   grade_span_min                    432 non-null    float64\n",
      " 7   grade_span_max                    435 non-null    int64  \n",
      " 8   expgrade_span_min                 31 non-null     float64\n",
      " 9   expgrade_span_max                 33 non-null     float64\n",
      " 10  bus                               434 non-null    object \n",
      " 11  subway                            358 non-null    object \n",
      " 12  primary_address_line_1            435 non-null    object \n",
      " 13  city                              435 non-null    object \n",
      " 14  state_code                        435 non-null    object \n",
      " 15  postcode                          435 non-null    int64  \n",
      " 16  website                           430 non-null    object \n",
      " 17  total_students                    426 non-null    float64\n",
      " 18  campus_name                       217 non-null    object \n",
      " 19  school_type                       104 non-null    object \n",
      " 20  overview_paragraph                434 non-null    object \n",
      " 21  program_highlights                434 non-null    object \n",
      " 22  language_classes                  412 non-null    object \n",
      " 23  advancedplacement_courses         340 non-null    object \n",
      " 24  online_ap_courses                 64 non-null     object \n",
      " 25  online_language_courses           73 non-null     object \n",
      " 26  extracurricular_activities        435 non-null    object \n",
      " 27  psal_sports_boys                  373 non-null    object \n",
      " 28  psal_sports_girls                 373 non-null    object \n",
      " 29  psal_sports_coed                  147 non-null    object \n",
      " 30  school_sports                     297 non-null    object \n",
      " 31  partner_cbo                       354 non-null    object \n",
      " 32  partner_hospital                  196 non-null    object \n",
      " 33  partner_highered                  378 non-null    object \n",
      " 34  partner_cultural                  305 non-null    object \n",
      " 35  partner_nonprofit                 297 non-null    object \n",
      " 36  partner_corporate                 198 non-null    object \n",
      " 37  partner_financial                 72 non-null     object \n",
      " 38  partner_other                     187 non-null    object \n",
      " 39  addtl_info1                       354 non-null    object \n",
      " 40  addtl_info2                       229 non-null    object \n",
      " 41  start_time                        431 non-null    object \n",
      " 42  end_time                          431 non-null    object \n",
      " 43  se_services                       435 non-null    object \n",
      " 44  ell_programs                      435 non-null    object \n",
      " 45  school_accessibility_description  435 non-null    object \n",
      " 46  number_programs                   435 non-null    int64  \n",
      " 47  priority01                        435 non-null    object \n",
      " 48  priority02                        352 non-null    object \n",
      " 49  priority03                        243 non-null    object \n",
      " 50  priority04                        177 non-null    object \n",
      " 51  priority05                        39 non-null     object \n",
      " 52  priority06                        17 non-null     object \n",
      " 53  priority07                        4 non-null      object \n",
      " 54  priority08                        1 non-null      object \n",
      " 55  priority09                        1 non-null      object \n",
      " 56  priority10                        1 non-null      object \n",
      " 57  Location 1                        435 non-null    object \n",
      " 58  Community Board                   432 non-null    float64\n",
      " 59  Council District                  432 non-null    float64\n",
      " 60  Census Tract                      432 non-null    float64\n",
      " 61  BIN                               431 non-null    float64\n",
      " 62  BBL                               431 non-null    float64\n",
      " 63  NTA                               432 non-null    object \n",
      " 64  Zip Codes                         434 non-null    float64\n",
      " 65  Community Districts               435 non-null    int64  \n",
      " 66  Borough Boundaries                435 non-null    int64  \n",
      " 67  City Council Districts            435 non-null    int64  \n",
      " 68  Police Precincts                  435 non-null    int64  \n",
      "dtypes: float64(10), int64(7), object(52)\n",
      "memory usage: 234.6+ KB\n"
     ]
    }
   ],
   "source": [
    "df.info()"
   ]
  },
  {
   "cell_type": "markdown",
   "id": "d70c6f46-813a-4405-bad6-df100f6ace9d",
   "metadata": {},
   "source": [
    "## Cleaning the column names (making lowercase, removing special characters, replacing spaces with _)"
   ]
  },
  {
   "cell_type": "code",
   "execution_count": 3,
   "id": "2d21aa4c-78f4-40de-8ea6-029563b317c3",
   "metadata": {},
   "outputs": [
    {
     "name": "stdout",
     "output_type": "stream",
     "text": [
      "<class 'pandas.core.frame.DataFrame'>\n",
      "RangeIndex: 435 entries, 0 to 434\n",
      "Data columns (total 69 columns):\n",
      " #   Column                            Non-Null Count  Dtype  \n",
      "---  ------                            --------------  -----  \n",
      " 0   dbn                               435 non-null    object \n",
      " 1   school_name                       435 non-null    object \n",
      " 2   borough                           435 non-null    object \n",
      " 3   building_code                     435 non-null    object \n",
      " 4   phone_number                      435 non-null    object \n",
      " 5   fax_number                        423 non-null    object \n",
      " 6   grade_span_min                    432 non-null    float64\n",
      " 7   grade_span_max                    435 non-null    int64  \n",
      " 8   expgrade_span_min                 31 non-null     float64\n",
      " 9   expgrade_span_max                 33 non-null     float64\n",
      " 10  bus                               434 non-null    object \n",
      " 11  subway                            358 non-null    object \n",
      " 12  primary_address_line_1            435 non-null    object \n",
      " 13  city                              435 non-null    object \n",
      " 14  state_code                        435 non-null    object \n",
      " 15  postcode                          435 non-null    int64  \n",
      " 16  website                           430 non-null    object \n",
      " 17  total_students                    426 non-null    float64\n",
      " 18  campus_name                       217 non-null    object \n",
      " 19  school_type                       104 non-null    object \n",
      " 20  overview_paragraph                434 non-null    object \n",
      " 21  program_highlights                434 non-null    object \n",
      " 22  language_classes                  412 non-null    object \n",
      " 23  advancedplacement_courses         340 non-null    object \n",
      " 24  online_ap_courses                 64 non-null     object \n",
      " 25  online_language_courses           73 non-null     object \n",
      " 26  extracurricular_activities        435 non-null    object \n",
      " 27  psal_sports_boys                  373 non-null    object \n",
      " 28  psal_sports_girls                 373 non-null    object \n",
      " 29  psal_sports_coed                  147 non-null    object \n",
      " 30  school_sports                     297 non-null    object \n",
      " 31  partner_cbo                       354 non-null    object \n",
      " 32  partner_hospital                  196 non-null    object \n",
      " 33  partner_highered                  378 non-null    object \n",
      " 34  partner_cultural                  305 non-null    object \n",
      " 35  partner_nonprofit                 297 non-null    object \n",
      " 36  partner_corporate                 198 non-null    object \n",
      " 37  partner_financial                 72 non-null     object \n",
      " 38  partner_other                     187 non-null    object \n",
      " 39  addtl_info1                       354 non-null    object \n",
      " 40  addtl_info2                       229 non-null    object \n",
      " 41  start_time                        431 non-null    object \n",
      " 42  end_time                          431 non-null    object \n",
      " 43  se_services                       435 non-null    object \n",
      " 44  ell_programs                      435 non-null    object \n",
      " 45  school_accessibility_description  435 non-null    object \n",
      " 46  number_programs                   435 non-null    int64  \n",
      " 47  priority01                        435 non-null    object \n",
      " 48  priority02                        352 non-null    object \n",
      " 49  priority03                        243 non-null    object \n",
      " 50  priority04                        177 non-null    object \n",
      " 51  priority05                        39 non-null     object \n",
      " 52  priority06                        17 non-null     object \n",
      " 53  priority07                        4 non-null      object \n",
      " 54  priority08                        1 non-null      object \n",
      " 55  priority09                        1 non-null      object \n",
      " 56  priority10                        1 non-null      object \n",
      " 57  location_1                        435 non-null    object \n",
      " 58  community_board                   432 non-null    float64\n",
      " 59  council_district                  432 non-null    float64\n",
      " 60  census_tract                      432 non-null    float64\n",
      " 61  bin                               431 non-null    float64\n",
      " 62  bbl                               431 non-null    float64\n",
      " 63  nta                               432 non-null    object \n",
      " 64  zip_codes                         434 non-null    float64\n",
      " 65  community_districts               435 non-null    int64  \n",
      " 66  borough_boundaries                435 non-null    int64  \n",
      " 67  city_council_districts            435 non-null    int64  \n",
      " 68  police_precincts                  435 non-null    int64  \n",
      "dtypes: float64(10), int64(7), object(52)\n",
      "memory usage: 234.6+ KB\n"
     ]
    }
   ],
   "source": [
    "df.columns = df.columns.str.lower().str.replace(\" \", \"_\", regex=True).str.replace(\"[^a-z0-9_]\", \"\", regex=True)\n",
    "df.info()"
   ]
  },
  {
   "cell_type": "markdown",
   "id": "ac90e11b-e8fb-40bf-afdd-b286a2ee67a4",
   "metadata": {},
   "source": [
    "## Filtering the dataset to include only schools located in Brooklyn"
   ]
  },
  {
   "cell_type": "code",
   "execution_count": 4,
   "id": "f5c4d38f-7005-451d-99e6-f61f5ed6be0d",
   "metadata": {},
   "outputs": [
    {
     "data": {
      "text/plain": [
       "array(['Queens', 'Brooklyn', 'Bronx', 'Manhattan', 'Staten Island'],\n",
       "      dtype=object)"
      ]
     },
     "execution_count": 4,
     "metadata": {},
     "output_type": "execute_result"
    }
   ],
   "source": [
    "df['borough'].unique()"
   ]
  },
  {
   "cell_type": "code",
   "execution_count": 5,
   "id": "855742a1-ddbd-40fa-a359-e5269901202c",
   "metadata": {},
   "outputs": [],
   "source": [
    "df_brooklyn=df[df['borough'] == 'Brooklyn']"
   ]
  },
  {
   "cell_type": "code",
   "execution_count": 6,
   "id": "36693e4a-393e-473b-99f6-33e43d602718",
   "metadata": {},
   "outputs": [
    {
     "data": {
      "text/plain": [
       "array(['Brooklyn'], dtype=object)"
      ]
     },
     "execution_count": 6,
     "metadata": {},
     "output_type": "execute_result"
    }
   ],
   "source": [
    "df_brooklyn['borough'].unique()"
   ]
  },
  {
   "cell_type": "markdown",
   "id": "4534bd9f-824d-4aca-b7f5-ba8996158744",
   "metadata": {},
   "source": [
    "## How many total schools are in Brooklyn? (use the method that counts only unique values. Also there is a column that has a unique identifier for schools.)"
   ]
  },
  {
   "cell_type": "code",
   "execution_count": 7,
   "id": "2e901441-62b8-48e2-bd85-9d3599c1e23e",
   "metadata": {},
   "outputs": [
    {
     "data": {
      "text/plain": [
       "121"
      ]
     },
     "execution_count": 7,
     "metadata": {},
     "output_type": "execute_result"
    }
   ],
   "source": [
    "df_brooklyn['school_name'].nunique()"
   ]
  },
  {
   "cell_type": "code",
   "execution_count": 8,
   "id": "5e405944-fe6d-4e41-a635-c74e1bda027f",
   "metadata": {},
   "outputs": [
    {
     "data": {
      "text/plain": [
       "121"
      ]
     },
     "execution_count": 8,
     "metadata": {},
     "output_type": "execute_result"
    }
   ],
   "source": [
    "df_brooklyn['dbn'].nunique()"
   ]
  },
  {
   "cell_type": "markdown",
   "id": "709d4b74-ad3f-41d4-85e5-c697299e73aa",
   "metadata": {},
   "source": [
    "### Answer: 121 schools"
   ]
  },
  {
   "cell_type": "markdown",
   "id": "8e223ee7-60ba-41ed-8c50-be92007cbbf2",
   "metadata": {},
   "source": [
    "## How many schools in Brooklyn offer Grade 9 entry? (here you need to use range to get the correct answer for example just stating min_grade entry >=9 will miss the schools that offer earlier entry))"
   ]
  },
  {
   "cell_type": "code",
   "execution_count": 9,
   "id": "610f1e20-dccb-446f-a1e4-76c569eadefa",
   "metadata": {},
   "outputs": [
    {
     "data": {
      "text/html": [
       "<div>\n",
       "<style scoped>\n",
       "    .dataframe tbody tr th:only-of-type {\n",
       "        vertical-align: middle;\n",
       "    }\n",
       "\n",
       "    .dataframe tbody tr th {\n",
       "        vertical-align: top;\n",
       "    }\n",
       "\n",
       "    .dataframe thead th {\n",
       "        text-align: right;\n",
       "    }\n",
       "</style>\n",
       "<table border=\"1\" class=\"dataframe\">\n",
       "  <thead>\n",
       "    <tr style=\"text-align: right;\">\n",
       "      <th></th>\n",
       "      <th>grade_span_min</th>\n",
       "      <th>grade_span_max</th>\n",
       "      <th>expgrade_span_min</th>\n",
       "      <th>expgrade_span_max</th>\n",
       "      <th>postcode</th>\n",
       "      <th>total_students</th>\n",
       "      <th>number_programs</th>\n",
       "      <th>community_board</th>\n",
       "      <th>council_district</th>\n",
       "      <th>census_tract</th>\n",
       "      <th>bin</th>\n",
       "      <th>bbl</th>\n",
       "      <th>zip_codes</th>\n",
       "      <th>community_districts</th>\n",
       "      <th>borough_boundaries</th>\n",
       "      <th>city_council_districts</th>\n",
       "      <th>police_precincts</th>\n",
       "    </tr>\n",
       "  </thead>\n",
       "  <tbody>\n",
       "    <tr>\n",
       "      <th>count</th>\n",
       "      <td>121.000000</td>\n",
       "      <td>121.000000</td>\n",
       "      <td>5.000000</td>\n",
       "      <td>5.000000</td>\n",
       "      <td>121.000000</td>\n",
       "      <td>119.000000</td>\n",
       "      <td>121.000000</td>\n",
       "      <td>121.000000</td>\n",
       "      <td>121.000000</td>\n",
       "      <td>121.000000</td>\n",
       "      <td>1.210000e+02</td>\n",
       "      <td>1.210000e+02</td>\n",
       "      <td>121.000000</td>\n",
       "      <td>121.000000</td>\n",
       "      <td>121.0</td>\n",
       "      <td>121.000000</td>\n",
       "      <td>121.000000</td>\n",
       "    </tr>\n",
       "    <tr>\n",
       "      <th>mean</th>\n",
       "      <td>8.429752</td>\n",
       "      <td>11.933884</td>\n",
       "      <td>8.400000</td>\n",
       "      <td>12.400000</td>\n",
       "      <td>11216.157025</td>\n",
       "      <td>699.134454</td>\n",
       "      <td>1.851240</td>\n",
       "      <td>7.685950</td>\n",
       "      <td>38.958678</td>\n",
       "      <td>812.231405</td>\n",
       "      <td>3.147492e+06</td>\n",
       "      <td>3.035851e+09</td>\n",
       "      <td>16453.280992</td>\n",
       "      <td>37.652893</td>\n",
       "      <td>2.0</td>\n",
       "      <td>31.256198</td>\n",
       "      <td>47.107438</td>\n",
       "    </tr>\n",
       "    <tr>\n",
       "      <th>std</th>\n",
       "      <td>1.181993</td>\n",
       "      <td>0.381566</td>\n",
       "      <td>1.341641</td>\n",
       "      <td>0.894427</td>\n",
       "      <td>11.712535</td>\n",
       "      <td>888.583666</td>\n",
       "      <td>1.563443</td>\n",
       "      <td>5.492469</td>\n",
       "      <td>4.899654</td>\n",
       "      <td>3291.737195</td>\n",
       "      <td>1.204235e+05</td>\n",
       "      <td>2.408111e+07</td>\n",
       "      <td>1698.663039</td>\n",
       "      <td>21.847849</td>\n",
       "      <td>0.0</td>\n",
       "      <td>13.064283</td>\n",
       "      <td>6.490765</td>\n",
       "    </tr>\n",
       "    <tr>\n",
       "      <th>min</th>\n",
       "      <td>6.000000</td>\n",
       "      <td>9.000000</td>\n",
       "      <td>6.000000</td>\n",
       "      <td>12.000000</td>\n",
       "      <td>11201.000000</td>\n",
       "      <td>85.000000</td>\n",
       "      <td>1.000000</td>\n",
       "      <td>1.000000</td>\n",
       "      <td>33.000000</td>\n",
       "      <td>11.000000</td>\n",
       "      <td>3.000216e+06</td>\n",
       "      <td>3.001200e+09</td>\n",
       "      <td>13509.000000</td>\n",
       "      <td>1.000000</td>\n",
       "      <td>2.0</td>\n",
       "      <td>7.000000</td>\n",
       "      <td>35.000000</td>\n",
       "    </tr>\n",
       "    <tr>\n",
       "      <th>25%</th>\n",
       "      <td>9.000000</td>\n",
       "      <td>12.000000</td>\n",
       "      <td>9.000000</td>\n",
       "      <td>12.000000</td>\n",
       "      <td>11207.000000</td>\n",
       "      <td>318.000000</td>\n",
       "      <td>1.000000</td>\n",
       "      <td>3.000000</td>\n",
       "      <td>35.000000</td>\n",
       "      <td>230.000000</td>\n",
       "      <td>3.057942e+06</td>\n",
       "      <td>3.015180e+09</td>\n",
       "      <td>13829.000000</td>\n",
       "      <td>17.000000</td>\n",
       "      <td>2.0</td>\n",
       "      <td>18.000000</td>\n",
       "      <td>43.000000</td>\n",
       "    </tr>\n",
       "    <tr>\n",
       "      <th>50%</th>\n",
       "      <td>9.000000</td>\n",
       "      <td>12.000000</td>\n",
       "      <td>9.000000</td>\n",
       "      <td>12.000000</td>\n",
       "      <td>11214.000000</td>\n",
       "      <td>421.000000</td>\n",
       "      <td>1.000000</td>\n",
       "      <td>6.000000</td>\n",
       "      <td>38.000000</td>\n",
       "      <td>435.000000</td>\n",
       "      <td>3.095977e+06</td>\n",
       "      <td>3.033650e+09</td>\n",
       "      <td>17214.000000</td>\n",
       "      <td>36.000000</td>\n",
       "      <td>2.0</td>\n",
       "      <td>37.000000</td>\n",
       "      <td>47.000000</td>\n",
       "    </tr>\n",
       "    <tr>\n",
       "      <th>75%</th>\n",
       "      <td>9.000000</td>\n",
       "      <td>12.000000</td>\n",
       "      <td>9.000000</td>\n",
       "      <td>12.000000</td>\n",
       "      <td>11225.000000</td>\n",
       "      <td>585.500000</td>\n",
       "      <td>2.000000</td>\n",
       "      <td>13.000000</td>\n",
       "      <td>42.000000</td>\n",
       "      <td>810.000000</td>\n",
       "      <td>3.224139e+06</td>\n",
       "      <td>3.051030e+09</td>\n",
       "      <td>17616.000000</td>\n",
       "      <td>60.000000</td>\n",
       "      <td>2.0</td>\n",
       "      <td>38.000000</td>\n",
       "      <td>53.000000</td>\n",
       "    </tr>\n",
       "    <tr>\n",
       "      <th>max</th>\n",
       "      <td>9.000000</td>\n",
       "      <td>12.000000</td>\n",
       "      <td>9.000000</td>\n",
       "      <td>14.000000</td>\n",
       "      <td>11238.000000</td>\n",
       "      <td>5458.000000</td>\n",
       "      <td>8.000000</td>\n",
       "      <td>18.000000</td>\n",
       "      <td>48.000000</td>\n",
       "      <td>36501.000000</td>\n",
       "      <td>3.413878e+06</td>\n",
       "      <td>3.087600e+09</td>\n",
       "      <td>18184.000000</td>\n",
       "      <td>69.000000</td>\n",
       "      <td>2.0</td>\n",
       "      <td>49.000000</td>\n",
       "      <td>57.000000</td>\n",
       "    </tr>\n",
       "  </tbody>\n",
       "</table>\n",
       "</div>"
      ],
      "text/plain": [
       "       grade_span_min  grade_span_max  expgrade_span_min  expgrade_span_max  \\\n",
       "count      121.000000      121.000000           5.000000           5.000000   \n",
       "mean         8.429752       11.933884           8.400000          12.400000   \n",
       "std          1.181993        0.381566           1.341641           0.894427   \n",
       "min          6.000000        9.000000           6.000000          12.000000   \n",
       "25%          9.000000       12.000000           9.000000          12.000000   \n",
       "50%          9.000000       12.000000           9.000000          12.000000   \n",
       "75%          9.000000       12.000000           9.000000          12.000000   \n",
       "max          9.000000       12.000000           9.000000          14.000000   \n",
       "\n",
       "           postcode  total_students  number_programs  community_board  \\\n",
       "count    121.000000      119.000000       121.000000       121.000000   \n",
       "mean   11216.157025      699.134454         1.851240         7.685950   \n",
       "std       11.712535      888.583666         1.563443         5.492469   \n",
       "min    11201.000000       85.000000         1.000000         1.000000   \n",
       "25%    11207.000000      318.000000         1.000000         3.000000   \n",
       "50%    11214.000000      421.000000         1.000000         6.000000   \n",
       "75%    11225.000000      585.500000         2.000000        13.000000   \n",
       "max    11238.000000     5458.000000         8.000000        18.000000   \n",
       "\n",
       "       council_district  census_tract           bin           bbl  \\\n",
       "count        121.000000    121.000000  1.210000e+02  1.210000e+02   \n",
       "mean          38.958678    812.231405  3.147492e+06  3.035851e+09   \n",
       "std            4.899654   3291.737195  1.204235e+05  2.408111e+07   \n",
       "min           33.000000     11.000000  3.000216e+06  3.001200e+09   \n",
       "25%           35.000000    230.000000  3.057942e+06  3.015180e+09   \n",
       "50%           38.000000    435.000000  3.095977e+06  3.033650e+09   \n",
       "75%           42.000000    810.000000  3.224139e+06  3.051030e+09   \n",
       "max           48.000000  36501.000000  3.413878e+06  3.087600e+09   \n",
       "\n",
       "          zip_codes  community_districts  borough_boundaries  \\\n",
       "count    121.000000           121.000000               121.0   \n",
       "mean   16453.280992            37.652893                 2.0   \n",
       "std     1698.663039            21.847849                 0.0   \n",
       "min    13509.000000             1.000000                 2.0   \n",
       "25%    13829.000000            17.000000                 2.0   \n",
       "50%    17214.000000            36.000000                 2.0   \n",
       "75%    17616.000000            60.000000                 2.0   \n",
       "max    18184.000000            69.000000                 2.0   \n",
       "\n",
       "       city_council_districts  police_precincts  \n",
       "count              121.000000        121.000000  \n",
       "mean                31.256198         47.107438  \n",
       "std                 13.064283          6.490765  \n",
       "min                  7.000000         35.000000  \n",
       "25%                 18.000000         43.000000  \n",
       "50%                 37.000000         47.000000  \n",
       "75%                 38.000000         53.000000  \n",
       "max                 49.000000         57.000000  "
      ]
     },
     "execution_count": 9,
     "metadata": {},
     "output_type": "execute_result"
    }
   ],
   "source": [
    "df_brooklyn.describe()"
   ]
  },
  {
   "cell_type": "markdown",
   "id": "f018ea62-6842-41fd-83aa-a0da4346e445",
   "metadata": {},
   "source": [
    "### For this task, we need to filter all schools where the grade_span_min is less than or equal to 9, and the grade_span_max is greater than or equal to 9"
   ]
  },
  {
   "cell_type": "code",
   "execution_count": 14,
   "id": "38684f54-9113-473e-b80a-ca2f7040aa8c",
   "metadata": {},
   "outputs": [
    {
     "data": {
      "text/plain": [
       "121"
      ]
     },
     "execution_count": 14,
     "metadata": {},
     "output_type": "execute_result"
    }
   ],
   "source": [
    "grade_filter=(df_brooklyn[(df_brooklyn['grade_span_min'] <= 9) & (df_brooklyn['grade_span_max'] >= 9)])\n",
    "grade_filter['dbn'].nunique()"
   ]
  },
  {
   "cell_type": "markdown",
   "id": "b3da8d80-dfd2-4070-97ac-22324dc8999a",
   "metadata": {},
   "source": [
    "### Answer: 121 schools"
   ]
  },
  {
   "cell_type": "markdown",
   "id": "0e4ae0ee-08a0-4843-b97d-ed94b78ecf8f",
   "metadata": {},
   "source": [
    "## Count of schools per borough (again unique schools)"
   ]
  },
  {
   "cell_type": "code",
   "execution_count": 15,
   "id": "88498b49-c457-4e00-ad82-669e6d85a492",
   "metadata": {},
   "outputs": [
    {
     "data": {
      "text/plain": [
       "array(['Queens', 'Brooklyn', 'Bronx', 'Manhattan', 'Staten Island'],\n",
       "      dtype=object)"
      ]
     },
     "execution_count": 15,
     "metadata": {},
     "output_type": "execute_result"
    }
   ],
   "source": [
    "df['borough'].unique()"
   ]
  },
  {
   "cell_type": "code",
   "execution_count": 16,
   "id": "133ed387-9aeb-4520-82b4-34b0c5247ac8",
   "metadata": {},
   "outputs": [
    {
     "data": {
      "text/plain": [
       "borough\n",
       "Bronx            118\n",
       "Brooklyn         121\n",
       "Manhattan        106\n",
       "Queens            80\n",
       "Staten Island     10\n",
       "Name: school_name, dtype: int64"
      ]
     },
     "execution_count": 16,
     "metadata": {},
     "output_type": "execute_result"
    }
   ],
   "source": [
    "df.groupby('borough')['school_name'].nunique()"
   ]
  },
  {
   "cell_type": "code",
   "execution_count": 17,
   "id": "7d564307-182d-41d5-b27a-52af8e189ba1",
   "metadata": {},
   "outputs": [
    {
     "data": {
      "text/plain": [
       "borough\n",
       "Bronx            118\n",
       "Brooklyn         121\n",
       "Manhattan        106\n",
       "Queens            80\n",
       "Staten Island     10\n",
       "Name: dbn, dtype: int64"
      ]
     },
     "execution_count": 17,
     "metadata": {},
     "output_type": "execute_result"
    }
   ],
   "source": [
    "df.groupby('borough')['dbn'].nunique()"
   ]
  },
  {
   "cell_type": "markdown",
   "id": "edd3179d-af1c-466b-b1ed-02ff2230ef68",
   "metadata": {},
   "source": [
    "## Average number of students per borough"
   ]
  },
  {
   "cell_type": "code",
   "execution_count": 18,
   "id": "4706e1dd-ba19-4063-98d4-71e0987c3999",
   "metadata": {},
   "outputs": [
    {
     "data": {
      "text/plain": [
       "borough\n",
       "Bronx             490.406780\n",
       "Brooklyn          699.134454\n",
       "Manhattan         589.825243\n",
       "Queens           1046.644737\n",
       "Staten Island    1847.500000\n",
       "Name: total_students, dtype: float64"
      ]
     },
     "execution_count": 18,
     "metadata": {},
     "output_type": "execute_result"
    }
   ],
   "source": [
    "df.groupby('borough')['total_students'].mean()"
   ]
  },
  {
   "cell_type": "markdown",
   "id": "b56476bf-1004-4cdf-82f3-ecd84e70bddb",
   "metadata": {},
   "source": [
    "## Summary of grade_span_max grouped by borough (use the method that provides you with basic statistics about that column)"
   ]
  },
  {
   "cell_type": "code",
   "execution_count": 19,
   "id": "b3f1ef99-ed3f-47c2-8db5-ca05ade121e6",
   "metadata": {},
   "outputs": [
    {
     "data": {
      "text/html": [
       "<div>\n",
       "<style scoped>\n",
       "    .dataframe tbody tr th:only-of-type {\n",
       "        vertical-align: middle;\n",
       "    }\n",
       "\n",
       "    .dataframe tbody tr th {\n",
       "        vertical-align: top;\n",
       "    }\n",
       "\n",
       "    .dataframe thead th {\n",
       "        text-align: right;\n",
       "    }\n",
       "</style>\n",
       "<table border=\"1\" class=\"dataframe\">\n",
       "  <thead>\n",
       "    <tr style=\"text-align: right;\">\n",
       "      <th></th>\n",
       "      <th>count</th>\n",
       "      <th>mean</th>\n",
       "      <th>std</th>\n",
       "      <th>min</th>\n",
       "      <th>25%</th>\n",
       "      <th>50%</th>\n",
       "      <th>75%</th>\n",
       "      <th>max</th>\n",
       "    </tr>\n",
       "    <tr>\n",
       "      <th>borough</th>\n",
       "      <th></th>\n",
       "      <th></th>\n",
       "      <th></th>\n",
       "      <th></th>\n",
       "      <th></th>\n",
       "      <th></th>\n",
       "      <th></th>\n",
       "      <th></th>\n",
       "    </tr>\n",
       "  </thead>\n",
       "  <tbody>\n",
       "    <tr>\n",
       "      <th>Bronx</th>\n",
       "      <td>118.0</td>\n",
       "      <td>11.906780</td>\n",
       "      <td>0.369506</td>\n",
       "      <td>9.0</td>\n",
       "      <td>12.0</td>\n",
       "      <td>12.0</td>\n",
       "      <td>12.0</td>\n",
       "      <td>12.0</td>\n",
       "    </tr>\n",
       "    <tr>\n",
       "      <th>Brooklyn</th>\n",
       "      <td>121.0</td>\n",
       "      <td>11.933884</td>\n",
       "      <td>0.381566</td>\n",
       "      <td>9.0</td>\n",
       "      <td>12.0</td>\n",
       "      <td>12.0</td>\n",
       "      <td>12.0</td>\n",
       "      <td>12.0</td>\n",
       "    </tr>\n",
       "    <tr>\n",
       "      <th>Manhattan</th>\n",
       "      <td>106.0</td>\n",
       "      <td>11.877358</td>\n",
       "      <td>0.472135</td>\n",
       "      <td>9.0</td>\n",
       "      <td>12.0</td>\n",
       "      <td>12.0</td>\n",
       "      <td>12.0</td>\n",
       "      <td>12.0</td>\n",
       "    </tr>\n",
       "    <tr>\n",
       "      <th>Queens</th>\n",
       "      <td>80.0</td>\n",
       "      <td>11.825000</td>\n",
       "      <td>0.497462</td>\n",
       "      <td>10.0</td>\n",
       "      <td>12.0</td>\n",
       "      <td>12.0</td>\n",
       "      <td>12.0</td>\n",
       "      <td>12.0</td>\n",
       "    </tr>\n",
       "    <tr>\n",
       "      <th>Staten Island</th>\n",
       "      <td>10.0</td>\n",
       "      <td>12.000000</td>\n",
       "      <td>0.000000</td>\n",
       "      <td>12.0</td>\n",
       "      <td>12.0</td>\n",
       "      <td>12.0</td>\n",
       "      <td>12.0</td>\n",
       "      <td>12.0</td>\n",
       "    </tr>\n",
       "  </tbody>\n",
       "</table>\n",
       "</div>"
      ],
      "text/plain": [
       "               count       mean       std   min   25%   50%   75%   max\n",
       "borough                                                                \n",
       "Bronx          118.0  11.906780  0.369506   9.0  12.0  12.0  12.0  12.0\n",
       "Brooklyn       121.0  11.933884  0.381566   9.0  12.0  12.0  12.0  12.0\n",
       "Manhattan      106.0  11.877358  0.472135   9.0  12.0  12.0  12.0  12.0\n",
       "Queens          80.0  11.825000  0.497462  10.0  12.0  12.0  12.0  12.0\n",
       "Staten Island   10.0  12.000000  0.000000  12.0  12.0  12.0  12.0  12.0"
      ]
     },
     "execution_count": 19,
     "metadata": {},
     "output_type": "execute_result"
    }
   ],
   "source": [
    "df.groupby('borough')['grade_span_max'].describe()"
   ]
  },
  {
   "cell_type": "markdown",
   "id": "84d0b6d8-3244-46b3-973e-0706001337cd",
   "metadata": {},
   "source": [
    "## Bar chart: Number of schools per borough"
   ]
  },
  {
   "cell_type": "code",
   "execution_count": 20,
   "id": "541c308a-5b79-431d-be55-f102d2a201c6",
   "metadata": {},
   "outputs": [
    {
     "data": {
      "image/png": "[encoded data removed]",
      "text/plain": [
       "<Figure size 640x480 with 1 Axes>"
      ]
     },
     "metadata": {},
     "output_type": "display_data"
    }
   ],
   "source": [
    "import matplotlib.pyplot as plt\n",
    "\n",
    "# Counting unique schools per borough\n",
    "schools_per_borough = df.groupby('borough')['school_name'].nunique()\n",
    "\n",
    "# Creating the bar chart\n",
    "bar_plot = schools_per_borough.plot(kind='bar')\n",
    "\n",
    "# Adding bar labels\n",
    "bar_plot.bar_label(bar_plot.containers[0])\n",
    "\n",
    "# Adding a title and labels\n",
    "plt.title('Number of Schools per Borough')\n",
    "plt.xlabel('Borough')\n",
    "plt.ylabel('Number of Schools')\n",
    "\n",
    "# Rotating the x-axis labels\n",
    "plt.xticks(rotation=45)\n",
    "\n",
    "plt.show()"
   ]
  },
  {
   "cell_type": "code",
   "execution_count": 58,
   "id": "0143a276-63f3-46f9-9377-9d76f152effb",
   "metadata": {},
   "outputs": [
    {
     "data": {
      "image/png": "[encoded data removed]",
      "text/plain": [
       "<Figure size 640x480 with 1 Axes>"
      ]
     },
     "metadata": {},
     "output_type": "display_data"
    }
   ],
   "source": [
    "# Counting students per borough\n",
    "students_per_borough = df.groupby('borough')['total_students'].sum()\n",
    "\n",
    "# Creating the bar chart\n",
    "bar_stud = students_per_borough.plot(kind='bar')\n",
    "\n",
    "# Adding bar labels\n",
    "bar_stud.bar_label(bar_stud.containers[0])\n",
    "\n",
    "# Adding a title and labels\n",
    "plt.title('Number of Students per Borough')\n",
    "plt.xlabel('Borough')\n",
    "plt.ylabel('Number of Students')\n",
    "\n",
    "# Rotating the x-axis labels\n",
    "plt.xticks(rotation=45)\n",
    "\n",
    "plt.show()"
   ]
  },
  {
   "cell_type": "markdown",
   "id": "ae103671-e808-4a7f-b6d1-f17da51912c9",
   "metadata": {},
   "source": [
    "## Average number of students per school per borough"
   ]
  },
  {
   "cell_type": "code",
   "execution_count": 22,
   "id": "7bb17da5-7387-4228-9610-52ff63bb3d77",
   "metadata": {},
   "outputs": [
    {
     "data": {
      "text/plain": [
       "borough\n",
       "Bronx             490.406780\n",
       "Brooklyn          699.134454\n",
       "Manhattan         589.825243\n",
       "Queens           1046.644737\n",
       "Staten Island    1847.500000\n",
       "Name: total_students, dtype: float64"
      ]
     },
     "execution_count": 22,
     "metadata": {},
     "output_type": "execute_result"
    }
   ],
   "source": [
    "# Counting avg of students per school per borough\n",
    "df.groupby('borough')['total_students'].mean()"
   ]
  },
  {
   "cell_type": "markdown",
   "id": "f44f2783-a0e2-4926-9f67-801efb716125",
   "metadata": {},
   "source": [
    "### Insight 1: Difference Between Number of Schools and Population\n",
    "\n",
    "Based on the charts, we can conclude that the number of schools directly correlates with the total student population in a borough. However, this isn't the most interesting finding. It is far more valuable to focus on the **average number of students per school**.\n",
    "\n",
    "---\n",
    "\n",
    "### Insight 2: School Efficiency and Size\n",
    "\n",
    "**Staten Island** and **Queens** have the highest average number of students per school, whereas the **Bronx**, **Brooklyn** and **Manhattan** and have significantly lower average values.\n",
    "\n",
    "This insight shows that schools in boroughs like **Staten Island** and **Queens** are, on average, much larger and more densely populated than those in other boroughs. This may be due to:\n",
    "\n",
    "* **Type of schools**: There may be a prevalence of large schools over specialized or smaller ones.\n",
    "* **Resource Distribution**: Larger schools may have more resources but also face challenges related to managing a larger student body.\n",
    "* **Demographic Density**: The population in these boroughs may be more concentrated, requiring larger educational facilities to meet the needs of residents.\n",
    "\n",
    "---\n",
    "\n",
    "### Insight 3: Comparative Borough Analysis\n",
    "\n",
    "**Brooklyn** has the largest number of schools and students. **Queens** has fewer schools (80) than the **Bronx** (118) but nearly twice the average number of students per school.\n",
    "\n",
    "This shows that despite similar sizes, boroughs can have completely different educational infrastructures. While **Brooklyn** and the **Bronx** prefer a model with a large number of small and medium-sized schools, **Queens** is betting on a smaller number of larger schools. This observation can be useful for planning future educational policy, for example, when deciding whether to build new large schools or several smaller ones to meet the needs of the population."
   ]
  }
 ],
 "metadata": {
  "kernelspec": {
   "display_name": "Python 3 (ipykernel)",
   "language": "python",
   "name": "python3"
  },
  "language_info": {
   "codemirror_mode": {
    "name": "ipython",
    "version": 3
   },
   "file_extension": ".py",
   "mimetype": "text/x-python",
   "name": "python",
   "nbconvert_exporter": "python",
   "pygments_lexer": "ipython3",
   "version": "3.13.5"
  }
 },
 "nbformat": 4,
 "nbformat_minor": 5
}
