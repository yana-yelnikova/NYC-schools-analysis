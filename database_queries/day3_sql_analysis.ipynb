{
 "cells": [
  {
   "cell_type": "code",
   "execution_count": 36,
   "id": "266714df",
   "metadata": {},
   "outputs": [],
   "source": [
    "import pandas as pd\n",
    "import sqlalchemy as sa"
   ]
  },
  {
   "cell_type": "code",
   "execution_count": null,
   "id": "f594cb67",
   "metadata": {},
   "outputs": [],
   "source": [
    "# Create the connection string using your credentials\n",
    "db_uri = \"******\"\n",
    "\n",
    "# Create the Engine object\n",
    "engine = sa.create_engine(db_uri)"
   ]
  },
  {
   "cell_type": "markdown",
   "id": "9bbfd505",
   "metadata": {},
   "source": [
    "#### Test Query"
   ]
  },
  {
   "cell_type": "code",
   "execution_count": 38,
   "id": "b329de65",
   "metadata": {},
   "outputs": [
    {
     "name": "stdout",
     "output_type": "stream",
     "text": [
      "      dbn                                        school_name    borough  \\\n",
      "0  27Q260          Frederick Douglass Academy VI High School     Queens   \n",
      "1  21K559        Life Academy High School for Film and Music   Brooklyn   \n",
      "2  16K393     Frederick Douglass Academy IV Secondary School   Brooklyn   \n",
      "3  08X305                               Pablo Neruda Academy      Bronx   \n",
      "4  03M485  Fiorello H. LaGuardia High School of Music & A...  Manhattan   \n",
      "\n",
      "  building_code  phone_number    fax_number  grade_span_min  grade_span_max  \\\n",
      "0          Q465  718-471-2154  718-471-2890             9.0              12   \n",
      "1          K400  718-333-7750  718-333-7775             9.0              12   \n",
      "2          K026  718-574-2820  718-574-2821             9.0              12   \n",
      "3          X450  718-824-1682  718-824-1663             9.0              12   \n",
      "4          M485  212-496-0700  212-724-5748             9.0              12   \n",
      "\n",
      "  expgrade_span_min expgrade_span_max  ... number_programs  \\\n",
      "0              None              None  ...               1   \n",
      "1              None              None  ...               1   \n",
      "2              None              None  ...               1   \n",
      "3              None              None  ...               1   \n",
      "4              None              None  ...               6   \n",
      "\n",
      "                                          Location 1 Community Board  \\\n",
      "0  {'latitude': '40.601989336', 'longitude': '-73...              14   \n",
      "1  {'latitude': '40.593593811', 'longitude': '-73...              13   \n",
      "2  {'latitude': '40.692133704', 'longitude': '-73...               3   \n",
      "3  {'latitude': '40.822303765', 'longitude': '-73...               9   \n",
      "4  {'latitude': '40.773670507', 'longitude': '-73...               7   \n",
      "\n",
      "  Council District Census Tract Zip Codes Community Districts  \\\n",
      "0               31       100802     20529                  51   \n",
      "1               47          306     17616                  21   \n",
      "2               36          291     18181                  69   \n",
      "3               18           16     11611                  58   \n",
      "4                6          151     12420                  20   \n",
      "\n",
      "  Borough Boundaries City Council Districts Police Precincts  \n",
      "0                  3                     47               59  \n",
      "1                  2                     45               35  \n",
      "2                  2                     49               52  \n",
      "3                  5                     31               26  \n",
      "4                  4                     19               12  \n",
      "\n",
      "[5 rows x 105 columns]\n"
     ]
    }
   ],
   "source": [
    "query = \"SELECT * FROM nyc_schools.high_school_directory LIMIT 5;\"\n",
    "df = pd.read_sql(query, engine)\n",
    "print(df.head())"
   ]
  },
  {
   "cell_type": "markdown",
   "id": "28835816",
   "metadata": {},
   "source": [
    "### How many schools are there in each borough?"
   ]
  },
  {
   "cell_type": "code",
   "execution_count": 41,
   "id": "12241429",
   "metadata": {},
   "outputs": [
    {
     "data": {
      "text/html": [
       "<div>\n",
       "<style scoped>\n",
       "    .dataframe tbody tr th:only-of-type {\n",
       "        vertical-align: middle;\n",
       "    }\n",
       "\n",
       "    .dataframe tbody tr th {\n",
       "        vertical-align: top;\n",
       "    }\n",
       "\n",
       "    .dataframe thead th {\n",
       "        text-align: right;\n",
       "    }\n",
       "</style>\n",
       "<table border=\"1\" class=\"dataframe\">\n",
       "  <thead>\n",
       "    <tr style=\"text-align: right;\">\n",
       "      <th></th>\n",
       "      <th>borough</th>\n",
       "      <th>school_count</th>\n",
       "    </tr>\n",
       "  </thead>\n",
       "  <tbody>\n",
       "    <tr>\n",
       "      <th>0</th>\n",
       "      <td>Bronx</td>\n",
       "      <td>118</td>\n",
       "    </tr>\n",
       "    <tr>\n",
       "      <th>1</th>\n",
       "      <td>Brooklyn</td>\n",
       "      <td>121</td>\n",
       "    </tr>\n",
       "    <tr>\n",
       "      <th>2</th>\n",
       "      <td>Manhattan</td>\n",
       "      <td>106</td>\n",
       "    </tr>\n",
       "    <tr>\n",
       "      <th>3</th>\n",
       "      <td>Queens</td>\n",
       "      <td>80</td>\n",
       "    </tr>\n",
       "    <tr>\n",
       "      <th>4</th>\n",
       "      <td>Staten Island</td>\n",
       "      <td>10</td>\n",
       "    </tr>\n",
       "  </tbody>\n",
       "</table>\n",
       "</div>"
      ],
      "text/plain": [
       "         borough  school_count\n",
       "0          Bronx           118\n",
       "1       Brooklyn           121\n",
       "2      Manhattan           106\n",
       "3         Queens            80\n",
       "4  Staten Island            10"
      ]
     },
     "execution_count": 41,
     "metadata": {},
     "output_type": "execute_result"
    }
   ],
   "source": [
    "query = \"\"\"\n",
    "SELECT  borough, \n",
    "        COUNT (DISTINCT dbn) AS school_count\n",
    "FROM nyc_schools.high_school_directory\n",
    "GROUP BY borough;\n",
    "\"\"\"\n",
    "df_result = pd.read_sql(query, engine)\n",
    "df_result"
   ]
  },
  {
   "cell_type": "markdown",
   "id": "9a09d8f0",
   "metadata": {},
   "source": [
    "### What is the average % of English Language Learners (ELL) per borough?"
   ]
  },
  {
   "cell_type": "code",
   "execution_count": 43,
   "id": "0787c00b",
   "metadata": {},
   "outputs": [
    {
     "data": {
      "text/html": [
       "<div>\n",
       "<style scoped>\n",
       "    .dataframe tbody tr th:only-of-type {\n",
       "        vertical-align: middle;\n",
       "    }\n",
       "\n",
       "    .dataframe tbody tr th {\n",
       "        vertical-align: top;\n",
       "    }\n",
       "\n",
       "    .dataframe thead th {\n",
       "        text-align: right;\n",
       "    }\n",
       "</style>\n",
       "<table border=\"1\" class=\"dataframe\">\n",
       "  <thead>\n",
       "    <tr style=\"text-align: right;\">\n",
       "      <th></th>\n",
       "      <th>borough</th>\n",
       "      <th>avg_percent_eng</th>\n",
       "    </tr>\n",
       "  </thead>\n",
       "  <tbody>\n",
       "    <tr>\n",
       "      <th>0</th>\n",
       "      <td>None</td>\n",
       "      <td>12.708867</td>\n",
       "    </tr>\n",
       "    <tr>\n",
       "      <th>1</th>\n",
       "      <td>Manhattan</td>\n",
       "      <td>7.572500</td>\n",
       "    </tr>\n",
       "  </tbody>\n",
       "</table>\n",
       "</div>"
      ],
      "text/plain": [
       "     borough  avg_percent_eng\n",
       "0       None        12.708867\n",
       "1  Manhattan         7.572500"
      ]
     },
     "execution_count": 43,
     "metadata": {},
     "output_type": "execute_result"
    }
   ],
   "source": [
    "query = \"\"\"SELECT \n",
    "\t-- Select the borough and average ELL percentage\n",
    "    hsd.borough,\n",
    "    AVG(sd.ell_percent) avg_percent_eng\n",
    "FROM \n",
    "    nyc_schools.school_demographics sd\n",
    "LEFT JOIN \n",
    "    nyc_schools.high_school_directory hsd\n",
    "ON \n",
    "    sd.dbn = hsd.dbn\n",
    "GROUP BY \n",
    "    hsd.borough -- Groups the data by borough\n",
    "ORDER BY\n",
    "    avg_percent_eng DESC; -- Orders the results by the calculated average\n",
    "    \"\"\"\n",
    "pd.read_sql(query, engine)"
   ]
  },
  {
   "cell_type": "markdown",
   "id": "b2ff4be9",
   "metadata": {},
   "source": [
    "#### Answer: average % of ELL at Manhattan is 7,57. The remaining data lacks a specified borough."
   ]
  },
  {
   "cell_type": "markdown",
   "id": "b9244c4b",
   "metadata": {},
   "source": [
    "### Using the data from the school demographics and high school directory, write a query to find the top 3 schools in each borough with the highest percentage of special education students (sped_percent)"
   ]
  },
  {
   "cell_type": "code",
   "execution_count": 46,
   "id": "60f6567e",
   "metadata": {},
   "outputs": [
    {
     "data": {
      "text/html": [
       "<div>\n",
       "<style scoped>\n",
       "    .dataframe tbody tr th:only-of-type {\n",
       "        vertical-align: middle;\n",
       "    }\n",
       "\n",
       "    .dataframe tbody tr th {\n",
       "        vertical-align: top;\n",
       "    }\n",
       "\n",
       "    .dataframe thead th {\n",
       "        text-align: right;\n",
       "    }\n",
       "</style>\n",
       "<table border=\"1\" class=\"dataframe\">\n",
       "  <thead>\n",
       "    <tr style=\"text-align: right;\">\n",
       "      <th></th>\n",
       "      <th>borough</th>\n",
       "      <th>school_name</th>\n",
       "      <th>sped_percent</th>\n",
       "    </tr>\n",
       "  </thead>\n",
       "  <tbody>\n",
       "    <tr>\n",
       "      <th>0</th>\n",
       "      <td>Manhattan</td>\n",
       "      <td>East Side Community School</td>\n",
       "      <td>28.8</td>\n",
       "    </tr>\n",
       "    <tr>\n",
       "      <th>1</th>\n",
       "      <td>Manhattan</td>\n",
       "      <td>East Side Community School</td>\n",
       "      <td>27.7</td>\n",
       "    </tr>\n",
       "    <tr>\n",
       "      <th>2</th>\n",
       "      <td>Manhattan</td>\n",
       "      <td>East Side Community School</td>\n",
       "      <td>26.7</td>\n",
       "    </tr>\n",
       "    <tr>\n",
       "      <th>3</th>\n",
       "      <td>None</td>\n",
       "      <td>None</td>\n",
       "      <td>35.5</td>\n",
       "    </tr>\n",
       "    <tr>\n",
       "      <th>4</th>\n",
       "      <td>None</td>\n",
       "      <td>None</td>\n",
       "      <td>35.3</td>\n",
       "    </tr>\n",
       "    <tr>\n",
       "      <th>5</th>\n",
       "      <td>None</td>\n",
       "      <td>None</td>\n",
       "      <td>32.6</td>\n",
       "    </tr>\n",
       "  </tbody>\n",
       "</table>\n",
       "</div>"
      ],
      "text/plain": [
       "     borough                 school_name  sped_percent\n",
       "0  Manhattan  East Side Community School          28.8\n",
       "1  Manhattan  East Side Community School          27.7\n",
       "2  Manhattan  East Side Community School          26.7\n",
       "3       None                        None          35.5\n",
       "4       None                        None          35.3\n",
       "5       None                        None          32.6"
      ]
     },
     "execution_count": 46,
     "metadata": {},
     "output_type": "execute_result"
    }
   ],
   "source": [
    "query = \"\"\"WITH ranked_schools AS ( -- This is CTE that ranks each school within it's borough\n",
    "\t\t\t\tSELECT \n",
    "        hsd.borough,\n",
    "        hsd.school_name,\n",
    "        sd.sped_percent,\n",
    "        -- Use the RANK() window function to create a ranking\n",
    "        -- PARTITION BY groups the data by borough, so the ranking resets for each borough\n",
    "        -- ORDER BY sorts schools by the average of sped_percent in descending order\n",
    "        RANK() OVER (PARTITION BY hsd.borough ORDER BY AVG(sd.sped_percent) DESC) AS rank_in_borough\n",
    "    FROM \n",
    "        nyc_schools.school_demographics sd\n",
    "    LEFT JOIN \n",
    "        nyc_schools.high_school_directory hsd\n",
    "    ON \n",
    "        sd.dbn = hsd.dbn\n",
    "    GROUP BY 1, 2, 3\n",
    ")\n",
    "SELECT \n",
    "    -- Select the borough, school name, and the average percentage of special education students\n",
    "    borough,\n",
    "    school_name,\n",
    "    sped_percent\n",
    "FROM ranked_schools\n",
    "-- Filter the results from the subquery to only include schools  with a rank of 1, 2, or 3\n",
    "WHERE \n",
    "    rank_in_borough <= 3\n",
    "-- Final sorting of the results, first by borough and then by the average percentage\n",
    "ORDER BY \n",
    "    borough, \n",
    "    sped_percent DESC;\n",
    "    \"\"\"\n",
    "pd.read_sql(query, engine)"
   ]
  },
  {
   "cell_type": "markdown",
   "id": "bc4a355e",
   "metadata": {},
   "source": [
    "#### Here is the data just for Manhattan, same as in previous query - the remaining data lacks a specified borough."
   ]
  }
 ],
 "metadata": {
  "kernelspec": {
   "display_name": "base",
   "language": "python",
   "name": "python3"
  },
  "language_info": {
   "codemirror_mode": {
    "name": "ipython",
    "version": 3
   },
   "file_extension": ".py",
   "mimetype": "text/x-python",
   "name": "python",
   "nbconvert_exporter": "python",
   "pygments_lexer": "ipython3",
   "version": "3.13.5"
  }
 },
 "nbformat": 4,
 "nbformat_minor": 5
}
